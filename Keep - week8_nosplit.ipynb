{
 "cells": [
  {
   "cell_type": "markdown",
   "id": "25534a14-0825-40b7-a82a-e8f500d3cff6",
   "metadata": {},
   "source": [
    "# Capstone Project "
   ]
  },
  {
   "cell_type": "markdown",
   "id": "257dc286-e63f-4375-95fa-5db5d3db6326",
   "metadata": {},
   "source": [
    "# Load the training data"
   ]
  },
  {
   "cell_type": "code",
   "execution_count": 1,
   "id": "1b32387e-455d-40ae-9d98-9cd1d8d53260",
   "metadata": {},
   "outputs": [],
   "source": [
    "import pandas as pd\n",
    "\n",
    "df = pd.read_csv(\"train.csv\")"
   ]
  },
  {
   "cell_type": "markdown",
   "id": "f4685723-b64d-47a7-ae97-a12006881b7f",
   "metadata": {},
   "source": [
    "# See the shape of our data"
   ]
  },
  {
   "cell_type": "code",
   "execution_count": 2,
   "id": "04fb530d-d7b4-4843-a714-a5b366af1c53",
   "metadata": {},
   "outputs": [
    {
     "data": {
      "text/plain": [
       "(5634, 22)"
      ]
     },
     "execution_count": 2,
     "metadata": {},
     "output_type": "execute_result"
    }
   ],
   "source": [
    "df.shape"
   ]
  },
  {
   "cell_type": "markdown",
   "id": "e5702836-fd1d-49a9-882a-628b4e8e6902",
   "metadata": {},
   "source": [
    "# List Column Names"
   ]
  },
  {
   "cell_type": "code",
   "execution_count": 3,
   "id": "f3669ddb-3f62-42a6-990e-c9987acf0166",
   "metadata": {},
   "outputs": [
    {
     "data": {
      "text/plain": [
       "Index(['ID', 'customerID', 'gender', 'SeniorCitizen', 'Partner', 'Dependents',\n",
       "       'tenure', 'PhoneService', 'MultipleLines', 'InternetService',\n",
       "       'OnlineSecurity', 'OnlineBackup', 'DeviceProtection', 'TechSupport',\n",
       "       'StreamingTV', 'StreamingMovies', 'Contract', 'PaperlessBilling',\n",
       "       'PaymentMethod', 'MonthlyCharges', 'TotalCharges', 'Churn'],\n",
       "      dtype='object')"
      ]
     },
     "execution_count": 3,
     "metadata": {},
     "output_type": "execute_result"
    }
   ],
   "source": [
    "df.columns"
   ]
  },
  {
   "cell_type": "markdown",
   "id": "7bb1c0c6-cdef-4d9e-abb5-17a7c6107677",
   "metadata": {},
   "source": [
    "# Inspect the data we have"
   ]
  },
  {
   "cell_type": "code",
   "execution_count": 4,
   "id": "73e150db-459f-4055-b6d1-2e9700637f3a",
   "metadata": {},
   "outputs": [
    {
     "data": {
      "text/plain": [
       "ID                  0\n",
       "customerID          0\n",
       "gender              0\n",
       "SeniorCitizen       0\n",
       "Partner             0\n",
       "Dependents          0\n",
       "tenure              0\n",
       "PhoneService        0\n",
       "MultipleLines       0\n",
       "InternetService     0\n",
       "OnlineSecurity      0\n",
       "OnlineBackup        0\n",
       "DeviceProtection    0\n",
       "TechSupport         0\n",
       "StreamingTV         0\n",
       "StreamingMovies     0\n",
       "Contract            0\n",
       "PaperlessBilling    0\n",
       "PaymentMethod       0\n",
       "MonthlyCharges      0\n",
       "TotalCharges        0\n",
       "Churn               0\n",
       "dtype: int64"
      ]
     },
     "execution_count": 4,
     "metadata": {},
     "output_type": "execute_result"
    }
   ],
   "source": [
    "df.isnull().sum()"
   ]
  },
  {
   "cell_type": "code",
   "execution_count": 5,
   "id": "53400ed8-ac57-4684-aea3-ebb269383246",
   "metadata": {},
   "outputs": [
    {
     "data": {
      "text/plain": [
       "Male      2833\n",
       "Female    2801\n",
       "Name: gender, dtype: int64"
      ]
     },
     "execution_count": 5,
     "metadata": {},
     "output_type": "execute_result"
    }
   ],
   "source": [
    "df.gender.value_counts()"
   ]
  },
  {
   "cell_type": "code",
   "execution_count": 6,
   "id": "38f3c2c4-180c-4c4d-b091-f81663934616",
   "metadata": {},
   "outputs": [
    {
     "data": {
      "text/plain": [
       "0    4714\n",
       "1     920\n",
       "Name: SeniorCitizen, dtype: int64"
      ]
     },
     "execution_count": 6,
     "metadata": {},
     "output_type": "execute_result"
    }
   ],
   "source": [
    "df.SeniorCitizen.value_counts()"
   ]
  },
  {
   "cell_type": "code",
   "execution_count": 7,
   "id": "7ce8e6cb-aae7-4a14-bcd7-5343bc18fa93",
   "metadata": {},
   "outputs": [
    {
     "data": {
      "text/plain": [
       "No     2905\n",
       "Yes    2729\n",
       "Name: Partner, dtype: int64"
      ]
     },
     "execution_count": 7,
     "metadata": {},
     "output_type": "execute_result"
    }
   ],
   "source": [
    "df.Partner.value_counts()"
   ]
  },
  {
   "cell_type": "code",
   "execution_count": 8,
   "id": "97c2349d-41c4-4fd5-8655-928084854f7a",
   "metadata": {},
   "outputs": [
    {
     "data": {
      "text/plain": [
       "No     3955\n",
       "Yes    1679\n",
       "Name: Dependents, dtype: int64"
      ]
     },
     "execution_count": 8,
     "metadata": {},
     "output_type": "execute_result"
    }
   ],
   "source": [
    "df.Dependents.value_counts()"
   ]
  },
  {
   "cell_type": "code",
   "execution_count": 9,
   "id": "f9e5af57-895c-4733-ad4d-30fa8a91e797",
   "metadata": {},
   "outputs": [
    {
     "data": {
      "text/plain": [
       "1     487\n",
       "72    292\n",
       "2     187\n",
       "3     150\n",
       "71    142\n",
       "     ... \n",
       "21     45\n",
       "44     43\n",
       "28     42\n",
       "36     40\n",
       "0       8\n",
       "Name: tenure, Length: 73, dtype: int64"
      ]
     },
     "execution_count": 9,
     "metadata": {},
     "output_type": "execute_result"
    }
   ],
   "source": [
    "df.tenure.value_counts()"
   ]
  },
  {
   "cell_type": "code",
   "execution_count": 10,
   "id": "1c0fa402-d4cc-4887-9af2-b9a00e4805dc",
   "metadata": {},
   "outputs": [
    {
     "data": {
      "text/plain": [
       "Yes    5075\n",
       "No      559\n",
       "Name: PhoneService, dtype: int64"
      ]
     },
     "execution_count": 10,
     "metadata": {},
     "output_type": "execute_result"
    }
   ],
   "source": [
    "df.PhoneService.value_counts()"
   ]
  },
  {
   "cell_type": "code",
   "execution_count": 11,
   "id": "829757f4-440d-4ef9-8cb0-ee6512235e5e",
   "metadata": {},
   "outputs": [
    {
     "data": {
      "text/plain": [
       "No                  2685\n",
       "Yes                 2390\n",
       "No phone service     559\n",
       "Name: MultipleLines, dtype: int64"
      ]
     },
     "execution_count": 11,
     "metadata": {},
     "output_type": "execute_result"
    }
   ],
   "source": [
    "df.MultipleLines.value_counts()"
   ]
  },
  {
   "cell_type": "code",
   "execution_count": 12,
   "id": "7527bb5b-7f83-44fe-92ee-dc2d91dc1553",
   "metadata": {},
   "outputs": [
    {
     "data": {
      "text/plain": [
       "Fiber optic    2483\n",
       "DSL            1937\n",
       "No             1214\n",
       "Name: InternetService, dtype: int64"
      ]
     },
     "execution_count": 12,
     "metadata": {},
     "output_type": "execute_result"
    }
   ],
   "source": [
    "df.InternetService.value_counts()"
   ]
  },
  {
   "cell_type": "code",
   "execution_count": 13,
   "id": "d35ace85-9d56-428d-b737-9f4a895f7eac",
   "metadata": {},
   "outputs": [
    {
     "data": {
      "text/plain": [
       "No                     2797\n",
       "Yes                    1623\n",
       "No internet service    1214\n",
       "Name: OnlineSecurity, dtype: int64"
      ]
     },
     "execution_count": 13,
     "metadata": {},
     "output_type": "execute_result"
    }
   ],
   "source": [
    "df.OnlineSecurity.value_counts()"
   ]
  },
  {
   "cell_type": "code",
   "execution_count": 14,
   "id": "92c97c78-2561-4219-a112-57ee296acba6",
   "metadata": {},
   "outputs": [
    {
     "data": {
      "text/plain": [
       "No                     2442\n",
       "Yes                    1978\n",
       "No internet service    1214\n",
       "Name: OnlineBackup, dtype: int64"
      ]
     },
     "execution_count": 14,
     "metadata": {},
     "output_type": "execute_result"
    }
   ],
   "source": [
    "df.OnlineBackup.value_counts()"
   ]
  },
  {
   "cell_type": "code",
   "execution_count": 15,
   "id": "6502888b-6ce1-475a-98db-6caa91745830",
   "metadata": {},
   "outputs": [
    {
     "data": {
      "text/plain": [
       "No                     2472\n",
       "Yes                    1948\n",
       "No internet service    1214\n",
       "Name: DeviceProtection, dtype: int64"
      ]
     },
     "execution_count": 15,
     "metadata": {},
     "output_type": "execute_result"
    }
   ],
   "source": [
    "df.DeviceProtection.value_counts()"
   ]
  },
  {
   "cell_type": "code",
   "execution_count": 16,
   "id": "2a81db86-5749-4627-b7ad-f25083dbb526",
   "metadata": {},
   "outputs": [
    {
     "data": {
      "text/plain": [
       "No                     2771\n",
       "Yes                    1649\n",
       "No internet service    1214\n",
       "Name: TechSupport, dtype: int64"
      ]
     },
     "execution_count": 16,
     "metadata": {},
     "output_type": "execute_result"
    }
   ],
   "source": [
    "df.TechSupport.value_counts()"
   ]
  },
  {
   "cell_type": "code",
   "execution_count": 17,
   "id": "7aee11d3-6e91-4cd1-ac90-ed81656c3caf",
   "metadata": {},
   "outputs": [
    {
     "data": {
      "text/plain": [
       "No                     2226\n",
       "Yes                    2194\n",
       "No internet service    1214\n",
       "Name: StreamingTV, dtype: int64"
      ]
     },
     "execution_count": 17,
     "metadata": {},
     "output_type": "execute_result"
    }
   ],
   "source": [
    "df.StreamingTV.value_counts()"
   ]
  },
  {
   "cell_type": "code",
   "execution_count": 18,
   "id": "77a08f1e-bdcd-4a2b-9b4a-15eb7f393529",
   "metadata": {},
   "outputs": [
    {
     "data": {
      "text/plain": [
       "No                     2217\n",
       "Yes                    2203\n",
       "No internet service    1214\n",
       "Name: StreamingMovies, dtype: int64"
      ]
     },
     "execution_count": 18,
     "metadata": {},
     "output_type": "execute_result"
    }
   ],
   "source": [
    "df.StreamingMovies.value_counts()"
   ]
  },
  {
   "cell_type": "code",
   "execution_count": 19,
   "id": "968138b5-c582-4fbb-a016-a1ffc74e4248",
   "metadata": {},
   "outputs": [
    {
     "data": {
      "text/plain": [
       "Month-to-month    3102\n",
       "Two year          1359\n",
       "One year          1173\n",
       "Name: Contract, dtype: int64"
      ]
     },
     "execution_count": 19,
     "metadata": {},
     "output_type": "execute_result"
    }
   ],
   "source": [
    "df.Contract.value_counts()"
   ]
  },
  {
   "cell_type": "code",
   "execution_count": 20,
   "id": "6ff3ab2c-094b-43bb-8724-02f9a466fbd6",
   "metadata": {},
   "outputs": [
    {
     "data": {
      "text/plain": [
       "Yes    3331\n",
       "No     2303\n",
       "Name: PaperlessBilling, dtype: int64"
      ]
     },
     "execution_count": 20,
     "metadata": {},
     "output_type": "execute_result"
    }
   ],
   "source": [
    "df.PaperlessBilling.value_counts()"
   ]
  },
  {
   "cell_type": "code",
   "execution_count": 21,
   "id": "f0519440-2a62-4a6b-86b7-a712b3c9d495",
   "metadata": {},
   "outputs": [
    {
     "data": {
      "text/plain": [
       "Electronic check             1891\n",
       "Mailed check                 1286\n",
       "Bank transfer (automatic)    1244\n",
       "Credit card (automatic)      1213\n",
       "Name: PaymentMethod, dtype: int64"
      ]
     },
     "execution_count": 21,
     "metadata": {},
     "output_type": "execute_result"
    }
   ],
   "source": [
    "df.PaymentMethod.value_counts()"
   ]
  },
  {
   "cell_type": "code",
   "execution_count": 22,
   "id": "b6376045-3d94-45d2-8e6c-4c7d40ae42c1",
   "metadata": {},
   "outputs": [
    {
     "data": {
      "text/plain": [
       "20.05     50\n",
       "20.00     37\n",
       "19.65     37\n",
       "19.85     36\n",
       "19.95     36\n",
       "          ..\n",
       "107.60     1\n",
       "63.25      1\n",
       "71.45      1\n",
       "71.95      1\n",
       "102.80     1\n",
       "Name: MonthlyCharges, Length: 1489, dtype: int64"
      ]
     },
     "execution_count": 22,
     "metadata": {},
     "output_type": "execute_result"
    }
   ],
   "source": [
    "df.MonthlyCharges.value_counts()"
   ]
  },
  {
   "cell_type": "code",
   "execution_count": 23,
   "id": "1d6ffcbb-acdc-418c-ac74-13dfb3402990",
   "metadata": {},
   "outputs": [
    {
     "data": {
      "text/plain": [
       "20.2       9\n",
       "           8\n",
       "45.3       7\n",
       "19.65      7\n",
       "19.75      6\n",
       "          ..\n",
       "2802.3     1\n",
       "8100.55    1\n",
       "8547.15    1\n",
       "4812.75    1\n",
       "109.3      1\n",
       "Name: TotalCharges, Length: 5276, dtype: int64"
      ]
     },
     "execution_count": 23,
     "metadata": {},
     "output_type": "execute_result"
    }
   ],
   "source": [
    "df.TotalCharges.value_counts()"
   ]
  },
  {
   "cell_type": "code",
   "execution_count": 24,
   "id": "864fd41d-27c0-4132-88f5-9e1832fb3b8c",
   "metadata": {},
   "outputs": [
    {
     "data": {
      "text/plain": [
       "0    4139\n",
       "1    1495\n",
       "Name: Churn, dtype: int64"
      ]
     },
     "execution_count": 24,
     "metadata": {},
     "output_type": "execute_result"
    }
   ],
   "source": [
    "df.Churn.value_counts()"
   ]
  },
  {
   "cell_type": "markdown",
   "id": "c07696b9-b1cf-4368-985b-e08881a4a59b",
   "metadata": {},
   "source": [
    "# Compute median of TotalCharges\n",
    "We learned by applying models to our data that we had non-numeric data in our feature set. Debugging with print statements, we were able to narrow the problem down to the TotalCharges column which contains mostly numeric data; however, it contains spaces in 8 rows. We will replace missing values with this median in our pipeline."
   ]
  },
  {
   "cell_type": "code",
   "execution_count": 25,
   "id": "f2e5c725-bd26-4317-8a9e-2a9e9f4a18c2",
   "metadata": {},
   "outputs": [
    {
     "data": {
      "text/plain": [
       "1398.125"
      ]
     },
     "execution_count": 25,
     "metadata": {},
     "output_type": "execute_result"
    }
   ],
   "source": [
    "pd.to_numeric(df.TotalCharges, errors='coerce').median()"
   ]
  },
  {
   "cell_type": "markdown",
   "id": "ee23d027-18ce-4e9a-a98f-ab2bbd03f0b5",
   "metadata": {},
   "source": [
    "# Make function for pre model fitting\n",
    "We do the following fixes to the feature set:\n",
    "\n",
    "- Fill in missing data in TotalCharges column\n",
    "- Delete customerID\n",
    "- Delete PhoneService. PhoneService is a summarised version of MultipleLines\n",
    "- MultipleLines - Yes=2; No=1; No phone Service=0. The reason for this is that this is an ordinal value. 2 is the most phone service while 0 is the least.\n",
    "- Contract - This is also an ordinal value. Month-to-month=0; One year=1; Two year=2. The higher the value, the more obligation.\n",
    "- PaymentMethod - Here we remove whitepace and special characters.\n",
    "- For OnlineSecurity, OnlineBackup, DeviceProtection, TechSupport, StreamingTV, and StreamingMovies: 1=Yes, 0=Anything else\n",
    "- InternetService - FiberOptic=2; DSL=1; None=0. This is an ordinal value the higher the number, the faster the internet service.\n",
    "\n",
    "Our with_all_fixes() function takes the original feature set and returns the fixed up feature set, leaving the original feature set unchanged."
   ]
  },
  {
   "cell_type": "code",
   "execution_count": 26,
   "id": "749fda96-eb57-43cb-b471-1061dcd3b4b6",
   "metadata": {},
   "outputs": [],
   "source": [
    "def fix_multiple_lines(df):\n",
    "\n",
    "    def fix(x):\n",
    "        if x == 'Yes':\n",
    "            return 2\n",
    "        elif x == 'No':\n",
    "            return 1\n",
    "        else:\n",
    "            return 0\n",
    "\n",
    "    df['MultipleLines'] = df['MultipleLines'].transform(fix)\n",
    "\n",
    "\n",
    "def fix_internet_service(df):\n",
    "\n",
    "    def fix(x):\n",
    "        if x == 'Fiber optic':\n",
    "            return 2\n",
    "        elif x == 'DSL':\n",
    "            return 1\n",
    "        else:\n",
    "            return 0\n",
    "\n",
    "    df['InternetService'] = df['InternetService'].transform(fix)\n",
    "\n",
    "\n",
    "def fix_internet_feature(df, col_name):\n",
    "\n",
    "    def fix(x):\n",
    "        if x == 'Yes':\n",
    "            return 1\n",
    "        else:\n",
    "            return 0\n",
    "\n",
    "    df[col_name] = df[col_name].transform(fix)\n",
    "    \n",
    "\n",
    "def fix_contract(df):\n",
    "\n",
    "    def fix(x):\n",
    "        if x == 'Two year':\n",
    "            return 2\n",
    "        elif x == 'One year':\n",
    "            return 1\n",
    "        else:\n",
    "            return 0\n",
    "\n",
    "    df['Contract'] = df['Contract'].transform(fix)\n",
    "\n",
    "\n",
    "def fix_payment_method(df):\n",
    "\n",
    "    def fix(x):\n",
    "        if x == 'Electronic check':\n",
    "            return 'electronic_check'\n",
    "        elif x == 'Mailed check':\n",
    "            return 'mailed_check'\n",
    "        elif x.startswith('Bank transfer'):\n",
    "            return 'bank_transfer'\n",
    "        else:\n",
    "            return 'credit_card'\n",
    "\n",
    "    df['PaymentMethod'] = df['PaymentMethod'].transform(fix)\n",
    " \n",
    "\n",
    "def with_all_fixes(df):\n",
    "    df = df.copy()\n",
    "\n",
    "    # Replace missing TotalCharges with NaN\n",
    "    df.TotalCharges = pd.to_numeric(df.TotalCharges, errors='coerce')\n",
    "\n",
    "    # Fill NaNs with median of 1398.125\n",
    "    df.TotalCharges.fillna(1398.125, inplace=True)\n",
    "    \n",
    "    del df['customerID']\n",
    "    del df['PhoneService']\n",
    "    fix_multiple_lines(df)\n",
    "    fix_internet_service(df)\n",
    "    fix_internet_feature(df, 'OnlineSecurity')\n",
    "    fix_internet_feature(df, 'OnlineBackup')\n",
    "    fix_internet_feature(df, 'DeviceProtection')\n",
    "    fix_internet_feature(df, 'TechSupport')\n",
    "    fix_internet_feature(df, 'StreamingTV')\n",
    "    fix_internet_feature(df, 'StreamingMovies')\n",
    "    fix_contract(df)\n",
    "    fix_payment_method(df)\n",
    "    \n",
    "    one_hot_columns = [\n",
    "        'gender',\n",
    "        'Partner',\n",
    "        'Dependents',\n",
    "        'PaperlessBilling',\n",
    "        'PaymentMethod',\n",
    "    ]\n",
    "\n",
    "    return pd.get_dummies(df, columns=one_hot_columns, drop_first=True)"
   ]
  },
  {
   "cell_type": "markdown",
   "id": "ef2f857d-1585-43cd-9f93-71d08166e3e9",
   "metadata": {},
   "source": [
    "# Fix up training data\n",
    "The target column is 'Churn' and the original feature set is everything but the ID and Churn columns (the first and last columns)."
   ]
  },
  {
   "cell_type": "code",
   "execution_count": 27,
   "id": "ad62fd05-bf92-4966-a6b7-aa7e70a527b2",
   "metadata": {},
   "outputs": [],
   "source": [
    "y = df.loc[:, 'Churn'].values\n",
    "X = with_all_fixes(df.iloc[:,1:-1]).values"
   ]
  },
  {
   "cell_type": "markdown",
   "id": "1aac1a3c-193f-4940-a4df-d91481c373ae",
   "metadata": {},
   "source": [
    "# Training and Test data set\n",
    "We use 30% for testing because we have a smaller dataset"
   ]
  },
  {
   "cell_type": "code",
   "execution_count": 28,
   "id": "22a7e494-000e-4fe8-ac12-f8b4bdbedcac",
   "metadata": {},
   "outputs": [],
   "source": [
    "from sklearn.model_selection import train_test_split\n",
    "\n",
    "X_train, X_test, y_train, y_test = train_test_split(\n",
    "    X, y, test_size=0.3, random_state=1, stratify=y)"
   ]
  },
  {
   "cell_type": "markdown",
   "id": "fee59421-fdac-4d95-a94a-16c324b5c640",
   "metadata": {},
   "source": [
    "# Feature Scaling"
   ]
  },
  {
   "cell_type": "code",
   "execution_count": 29,
   "id": "989f28e1-cfc8-4d2a-b3db-b46c06ae75f5",
   "metadata": {},
   "outputs": [],
   "source": [
    "from sklearn.preprocessing import StandardScaler\n",
    "\n",
    "sc = StandardScaler()\n",
    "X_train_std = sc.fit_transform(X_train)\n",
    "X_test_std = sc.transform(X_test)"
   ]
  },
  {
   "cell_type": "markdown",
   "id": "5c2339f9-f789-4326-9616-d7f525bd5068",
   "metadata": {},
   "source": [
    "# Logistic Regression"
   ]
  },
  {
   "cell_type": "code",
   "execution_count": 30,
   "id": "44bdb806-94fb-4424-82ab-13e7cec6d383",
   "metadata": {},
   "outputs": [
    {
     "name": "stdout",
     "output_type": "stream",
     "text": [
      "0.8086999558869415\n"
     ]
    }
   ],
   "source": [
    "from sklearn.metrics import roc_curve, auc\n",
    "from sklearn.decomposition import PCA\n",
    "from sklearn.linear_model import LogisticRegression\n",
    "from sklearn.pipeline import make_pipeline\n",
    "\n",
    "pipe_lr = make_pipeline(\n",
    "    StandardScaler(),\n",
    "    PCA(n_components=5),\n",
    "    LogisticRegression(penalty='l2', random_state=1, solver='lbfgs', C=1.0),\n",
    ")\n",
    "\n",
    "probas = pipe_lr.fit(X_train, y_train).predict_proba(X_test)\n",
    "\n",
    "fpr, tpr, thresholds = roc_curve(y_test, probas[:, 1], pos_label=1)\n",
    "print(auc(fpr, tpr))"
   ]
  },
  {
   "cell_type": "markdown",
   "id": "50ccb7c4-1138-4696-8bdb-560c6fa1d326",
   "metadata": {},
   "source": [
    "# Read test.csv"
   ]
  },
  {
   "cell_type": "code",
   "execution_count": 31,
   "id": "6e42ee64-5a39-42ac-8e43-e4a0db9d3ccf",
   "metadata": {},
   "outputs": [],
   "source": [
    "testdf = pd.read_csv('test.csv')\n",
    "\n",
    "# Save off ID columns for submission file\n",
    "ids = testdf.ID.values\n",
    "\n",
    "# fix up the data the same way we did for our training set\n",
    "X_testdata = with_all_fixes(testdf.iloc[:,1:]).values\n"
   ]
  },
  {
   "cell_type": "markdown",
   "id": "f724b034-1bef-4ea6-98dd-beae84b9adfa",
   "metadata": {},
   "source": [
    "# Apply the model"
   ]
  },
  {
   "cell_type": "code",
   "execution_count": 32,
   "id": "ad284487-e417-40b1-8c8f-373739a18675",
   "metadata": {},
   "outputs": [],
   "source": [
    "y_predict = pipe_lr.predict(X_testdata)\n"
   ]
  },
  {
   "cell_type": "markdown",
   "id": "1b78ce52-ea98-4ef7-9c6f-3e293d62b173",
   "metadata": {},
   "source": [
    "## Write final CSV"
   ]
  },
  {
   "cell_type": "code",
   "execution_count": 33,
   "id": "a49b7e25-90fc-49cd-acba-edb7c8069d4b",
   "metadata": {},
   "outputs": [],
   "source": [
    "final = pd.DataFrame({'ID': ids, 'Churn': y_predict})\n",
    "final.to_csv('submission.csv', index=False)"
   ]
  }
 ],
 "metadata": {
  "kernelspec": {
   "display_name": "Python 3 (ipykernel)",
   "language": "python",
   "name": "python3"
  },
  "language_info": {
   "codemirror_mode": {
    "name": "ipython",
    "version": 3
   },
   "file_extension": ".py",
   "mimetype": "text/x-python",
   "name": "python",
   "nbconvert_exporter": "python",
   "pygments_lexer": "ipython3",
   "version": "3.9.6"
  }
 },
 "nbformat": 4,
 "nbformat_minor": 5
}
